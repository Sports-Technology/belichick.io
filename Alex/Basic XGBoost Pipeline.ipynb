{
 "cells": [
  {
   "cell_type": "code",
   "execution_count": 173,
   "metadata": {},
   "outputs": [],
   "source": [
    "import numpy as np \n",
    "import pandas as pd \n",
    "from sklearn.linear_model import LogisticRegression\n",
    "from sklearn.model_selection import train_test_split\n",
    "from sklearn.metrics import classification_report\n",
    "from xgboost import XGBClassifier\n",
    "import pandas as pd\n",
    "import seaborn as sns\n",
    "import joblib\n",
    "import random\n",
    "import math"
   ]
  },
  {
   "cell_type": "code",
   "execution_count": 135,
   "metadata": {},
   "outputs": [],
   "source": [
    "# Downloading Data\n",
    "# The variable dataset size determines how big of a dataset is imported \n",
    "# 1 = 2019 data, 2= 2019+2018, 3 = ...\n",
    "dataset_sz  = 1\n",
    "\n",
    "stem = \"../data/pbp-201\"\n",
    "suffix = \".csv\"\n",
    "sets = []\n",
    "\n",
    "\n",
    "for x in range(dataset_sz):\n",
    "    num = str(9-x)\n",
    "    name = stem+num+suffix\n",
    "    sets.append(pd.read_csv(name))\n",
    "    \n",
    "data = pd.concat(sets)"
   ]
  },
  {
   "cell_type": "code",
   "execution_count": 91,
   "metadata": {},
   "outputs": [],
   "source": [
    "#Used RapidMiner API to identify columns that correlate with target variable while \n",
    "#also not having a large number of missing values (over 50% missing) or stability above 95%\n",
    "\n",
    "good_columns = ['Minute', 'Second', 'OffenseTeam', 'DefenseTeam', 'Down', 'ToGo', 'YardLine',\n",
    "'SeriesFirstDown', 'Formation', 'PlayType', 'IsRush', 'IsPass', 'IsIncomplete', \n",
    "'PassType', 'YardLineFixed', 'YardLineDirection', 'Quarter', 'IsTouchdown', 'IsSack', \n",
    "'IsInterception', 'IsFumble', 'IsPenalty', 'Yards']\n",
    "\n",
    "data_gc = data[good_columns]"
   ]
  },
  {
   "cell_type": "code",
   "execution_count": 92,
   "metadata": {},
   "outputs": [
    {
     "name": "stderr",
     "output_type": "stream",
     "text": [
      "<ipython-input-92-a960f274aafd>:3: SettingWithCopyWarning: \n",
      "A value is trying to be set on a copy of a slice from a DataFrame.\n",
      "Try using .loc[row_indexer,col_indexer] = value instead\n",
      "\n",
      "See the caveats in the documentation: https://pandas.pydata.org/pandas-docs/stable/user_guide/indexing.html#returning-a-view-versus-a-copy\n",
      "  data_gc[\"Time\"] = data_gc[\"Minute\"]*60+data_gc[\"Second\"]\n",
      "C:\\Users\\alexu\\anaconda3\\lib\\site-packages\\pandas\\core\\frame.py:3990: SettingWithCopyWarning: \n",
      "A value is trying to be set on a copy of a slice from a DataFrame\n",
      "\n",
      "See the caveats in the documentation: https://pandas.pydata.org/pandas-docs/stable/user_guide/indexing.html#returning-a-view-versus-a-copy\n",
      "  return super().drop(\n"
     ]
    }
   ],
   "source": [
    "#Create a standard time column  = minute*60+seconds\n",
    "\n",
    "data_gc[\"Time\"] = data_gc[\"Minute\"]*60+data_gc[\"Second\"]\n",
    "data_gc.drop([\"Minute\",\"Second\"], axis = 1, inplace =True)"
   ]
  },
  {
   "cell_type": "code",
   "execution_count": 93,
   "metadata": {},
   "outputs": [
    {
     "name": "stdout",
     "output_type": "stream",
     "text": [
      "OffenseTeam\n",
      "False    39078\n",
      "True      3108\n",
      "Name: OffenseTeam, dtype: int64\n",
      "Formation\n",
      "False    41470\n",
      "True       716\n",
      "Name: Formation, dtype: int64\n",
      "PlayType\n",
      "False    40732\n",
      "True      1454\n",
      "Name: PlayType, dtype: int64\n",
      "PassType\n",
      "True     24669\n",
      "False    17517\n",
      "Name: PassType, dtype: int64\n"
     ]
    }
   ],
   "source": [
    "#See which columns have NaN's in order to begin imputing missing values \n",
    "imput_list = []\n",
    "for col in data_gc.columns:\n",
    "    x = data_gc[col].isna().value_counts()\n",
    "    \n",
    "    #Ignore column if no missing values \n",
    "    if len(x)>1: \n",
    "        print(col)\n",
    "        imput_list.append(col)\n",
    "        print(x)"
   ]
  },
  {
   "cell_type": "code",
   "execution_count": 94,
   "metadata": {},
   "outputs": [
    {
     "name": "stderr",
     "output_type": "stream",
     "text": [
      "C:\\Users\\alexu\\anaconda3\\lib\\site-packages\\pandas\\core\\generic.py:6245: SettingWithCopyWarning: \n",
      "A value is trying to be set on a copy of a slice from a DataFrame\n",
      "\n",
      "See the caveats in the documentation: https://pandas.pydata.org/pandas-docs/stable/user_guide/indexing.html#returning-a-view-versus-a-copy\n",
      "  self._update_inplace(new_data)\n"
     ]
    }
   ],
   "source": [
    "#Impute Pass Type columns with Misc\n",
    "data_gc[\"PassType\"].fillna('MISC', inplace =True)\n",
    "#got tired of longer data frame name\n",
    "dgci = data_gc"
   ]
  },
  {
   "cell_type": "code",
   "execution_count": 95,
   "metadata": {},
   "outputs": [],
   "source": [
    "#Losing about 3000 out of 42,000 columns by dropping rows with NaN's\n",
    "\n",
    "dgci = dgci.dropna()\n",
    "\n",
    "#sanity check\n",
    "\n",
    "for col in dgci.columns:\n",
    "    x = dgci[col].isna().value_counts()\n",
    "    \n",
    "    #Ignore column if no missing values \n",
    "    if len(x)>1: \n",
    "        print(col)\n",
    "        print(x)\n",
    "        \n",
    "# If this prints something, something went wrong. "
   ]
  },
  {
   "cell_type": "code",
   "execution_count": 96,
   "metadata": {},
   "outputs": [
    {
     "name": "stdout",
     "output_type": "stream",
     "text": [
      "<class 'pandas.core.frame.DataFrame'>\n",
      "Int64Index: 39047 entries, 0 to 42185\n",
      "Data columns (total 22 columns):\n",
      " #   Column             Non-Null Count  Dtype \n",
      "---  ------             --------------  ----- \n",
      " 0   OffenseTeam        39047 non-null  object\n",
      " 1   DefenseTeam        39047 non-null  object\n",
      " 2   Down               39047 non-null  int64 \n",
      " 3   ToGo               39047 non-null  int64 \n",
      " 4   YardLine           39047 non-null  int64 \n",
      " 5   SeriesFirstDown    39047 non-null  int64 \n",
      " 6   Formation          39047 non-null  object\n",
      " 7   PlayType           39047 non-null  object\n",
      " 8   IsRush             39047 non-null  int64 \n",
      " 9   IsPass             39047 non-null  int64 \n",
      " 10  IsIncomplete       39047 non-null  int64 \n",
      " 11  PassType           39047 non-null  object\n",
      " 12  YardLineFixed      39047 non-null  int64 \n",
      " 13  YardLineDirection  39047 non-null  object\n",
      " 14  Quarter            39047 non-null  int64 \n",
      " 15  IsTouchdown        39047 non-null  int64 \n",
      " 16  IsSack             39047 non-null  int64 \n",
      " 17  IsInterception     39047 non-null  int64 \n",
      " 18  IsFumble           39047 non-null  int64 \n",
      " 19  IsPenalty          39047 non-null  int64 \n",
      " 20  Yards              39047 non-null  int64 \n",
      " 21  Time               39047 non-null  int64 \n",
      "dtypes: int64(16), object(6)\n",
      "memory usage: 6.9+ MB\n"
     ]
    }
   ],
   "source": [
    "# Must turn categorical variables into dummy vars to make sklearn happy \n",
    "\n",
    "#First see which columns are categorical (some already are made into dummy vars)\n",
    "dgci.info()"
   ]
  },
  {
   "cell_type": "code",
   "execution_count": 97,
   "metadata": {},
   "outputs": [],
   "source": [
    "cats = ['DefenseTeam','OffenseTeam','Formation','PlayType','PassType', 'YardLineDirection', \"Quarter\", \"Down\"]\n",
    "df = pd.get_dummies(dgci, columns = cats)"
   ]
  },
  {
   "cell_type": "code",
   "execution_count": 98,
   "metadata": {},
   "outputs": [
    {
     "data": {
      "text/plain": [
       "Index(['OffenseTeam', 'DefenseTeam', 'Down', 'ToGo', 'YardLine',\n",
       "       'SeriesFirstDown', 'Formation', 'PlayType', 'IsRush', 'IsPass',\n",
       "       'IsIncomplete', 'PassType', 'YardLineFixed', 'YardLineDirection',\n",
       "       'Quarter', 'IsTouchdown', 'IsSack', 'IsInterception', 'IsFumble',\n",
       "       'IsPenalty', 'Yards', 'Time'],\n",
       "      dtype='object')"
      ]
     },
     "execution_count": 98,
     "metadata": {},
     "output_type": "execute_result"
    }
   ],
   "source": [
    "dgci.columns"
   ]
  },
  {
   "cell_type": "code",
   "execution_count": 101,
   "metadata": {},
   "outputs": [],
   "source": [
    "y = df[\"Yards\"]\n",
    "X = df.drop(\"Yards\", axis = 1)"
   ]
  },
  {
   "cell_type": "code",
   "execution_count": 102,
   "metadata": {},
   "outputs": [],
   "source": [
    "x_training_data, x_test_data, y_training_data, y_test_data = train_test_split(X, y, test_size = 0.1)"
   ]
  },
  {
   "cell_type": "code",
   "execution_count": 108,
   "metadata": {},
   "outputs": [],
   "source": [
    "model = XGBClassifier(verbosity=1)"
   ]
  },
  {
   "cell_type": "code",
   "execution_count": 109,
   "metadata": {},
   "outputs": [
    {
     "data": {
      "text/plain": [
       "XGBClassifier(base_score=0.5, booster='gbtree', colsample_bylevel=1,\n",
       "              colsample_bynode=1, colsample_bytree=1, gamma=0, gpu_id=-1,\n",
       "              importance_type='gain', interaction_constraints='',\n",
       "              learning_rate=0.300000012, max_delta_step=0, max_depth=6,\n",
       "              min_child_weight=1, missing=nan, monotone_constraints='()',\n",
       "              n_estimators=100, n_jobs=0, num_parallel_tree=1,\n",
       "              objective='multi:softprob', random_state=0, reg_alpha=0,\n",
       "              reg_lambda=1, scale_pos_weight=None, subsample=1,\n",
       "              tree_method='exact', validate_parameters=1, verbosity=1)"
      ]
     },
     "execution_count": 109,
     "metadata": {},
     "output_type": "execute_result"
    }
   ],
   "source": [
    "model.fit(X, y)"
   ]
  },
  {
   "cell_type": "code",
   "execution_count": 110,
   "metadata": {},
   "outputs": [
    {
     "name": "stdout",
     "output_type": "stream",
     "text": [
      "              precision    recall  f1-score   support\n",
      "\n",
      "         -23       1.00      1.00      1.00         1\n",
      "         -15       1.00      1.00      1.00         2\n",
      "         -13       1.00      1.00      1.00         3\n",
      "         -12       1.00      1.00      1.00         2\n",
      "         -11       1.00      1.00      1.00        12\n",
      "         -10       1.00      1.00      1.00        10\n",
      "          -9       1.00      1.00      1.00         9\n",
      "          -8       0.94      1.00      0.97        16\n",
      "          -7       1.00      0.92      0.96        24\n",
      "          -6       1.00      0.83      0.91        18\n",
      "          -5       1.00      0.50      0.67        14\n",
      "          -4       1.00      0.70      0.82        20\n",
      "          -3       0.92      0.48      0.63        25\n",
      "          -2       0.90      0.54      0.68        35\n",
      "          -1       0.89      0.53      0.67        60\n",
      "           0       0.97      0.96      0.97      1587\n",
      "           1       0.64      0.73      0.68       164\n",
      "           2       0.59      0.70      0.64       221\n",
      "           3       0.54      0.77      0.63       187\n",
      "           4       0.64      0.70      0.67       191\n",
      "           5       0.62      0.61      0.62       172\n",
      "           6       0.66      0.60      0.63       149\n",
      "           7       0.68      0.73      0.71       130\n",
      "           8       0.71      0.62      0.66       103\n",
      "           9       0.73      0.61      0.67       116\n",
      "          10       0.88      0.77      0.82        65\n",
      "          11       0.75      0.90      0.82        71\n",
      "          12       0.84      0.83      0.83        69\n",
      "          13       0.82      0.88      0.85        48\n",
      "          14       0.84      0.68      0.75        31\n",
      "          15       0.96      0.79      0.87        33\n",
      "          16       0.90      0.84      0.87        32\n",
      "          17       1.00      0.82      0.90        33\n",
      "          18       1.00      0.70      0.82        20\n",
      "          19       1.00      1.00      1.00        32\n",
      "          20       0.96      0.89      0.93        28\n",
      "          21       1.00      0.88      0.93        16\n",
      "          22       1.00      0.89      0.94         9\n",
      "          23       1.00      1.00      1.00        15\n",
      "          24       1.00      0.92      0.96        12\n",
      "          25       1.00      1.00      1.00        14\n",
      "          26       1.00      0.86      0.92         7\n",
      "          27       1.00      0.92      0.96        12\n",
      "          28       1.00      1.00      1.00         9\n",
      "          29       1.00      1.00      1.00         6\n",
      "          30       1.00      0.75      0.86         8\n",
      "          31       1.00      1.00      1.00         7\n",
      "          32       1.00      1.00      1.00         2\n",
      "          33       1.00      1.00      1.00         2\n",
      "          34       1.00      1.00      1.00         7\n",
      "          35       1.00      1.00      1.00         2\n",
      "          36       1.00      1.00      1.00         1\n",
      "          37       1.00      1.00      1.00         5\n",
      "          38       1.00      1.00      1.00         2\n",
      "          39       1.00      1.00      1.00         1\n",
      "          40       1.00      1.00      1.00         2\n",
      "          41       1.00      1.00      1.00         5\n",
      "          42       1.00      1.00      1.00         1\n",
      "          43       1.00      1.00      1.00         3\n",
      "          44       1.00      1.00      1.00         2\n",
      "          45       1.00      1.00      1.00         2\n",
      "          46       1.00      1.00      1.00         2\n",
      "          47       1.00      1.00      1.00         1\n",
      "          48       1.00      1.00      1.00         2\n",
      "          49       1.00      1.00      1.00         3\n",
      "          52       1.00      1.00      1.00         2\n",
      "          53       1.00      1.00      1.00         1\n",
      "          54       1.00      1.00      1.00         1\n",
      "          56       1.00      1.00      1.00         1\n",
      "          58       1.00      1.00      1.00         3\n",
      "          62       1.00      1.00      1.00         1\n",
      "          67       1.00      1.00      1.00         1\n",
      "          75       1.00      1.00      1.00         1\n",
      "          93       1.00      1.00      1.00         1\n",
      "\n",
      "    accuracy                           0.82      3905\n",
      "   macro avg       0.94      0.89      0.91      3905\n",
      "weighted avg       0.84      0.82      0.83      3905\n",
      "\n"
     ]
    }
   ],
   "source": [
    "predictions = model.predict(x_test_data)\n",
    "print(classification_report(y_test_data, predictions))"
   ]
  },
  {
   "cell_type": "code",
   "execution_count": 179,
   "metadata": {},
   "outputs": [
    {
     "data": {
      "text/plain": [
       "['model1114']"
      ]
     },
     "execution_count": 179,
     "metadata": {},
     "output_type": "execute_result"
    }
   ],
   "source": [
    "joblib.dump(model, \"model1114\") "
   ]
  },
  {
   "cell_type": "code",
   "execution_count": 180,
   "metadata": {},
   "outputs": [],
   "source": [
    "#This is how to load model\n",
    "model = joblib.load(\"model1114\")"
   ]
  },
  {
   "cell_type": "code",
   "execution_count": null,
   "metadata": {},
   "outputs": [],
   "source": []
  }
 ],
 "metadata": {
  "kernelspec": {
   "display_name": "Python 3",
   "language": "python",
   "name": "python3"
  },
  "language_info": {
   "codemirror_mode": {
    "name": "ipython",
    "version": 3
   },
   "file_extension": ".py",
   "mimetype": "text/x-python",
   "name": "python",
   "nbconvert_exporter": "python",
   "pygments_lexer": "ipython3",
   "version": "3.8.3"
  }
 },
 "nbformat": 4,
 "nbformat_minor": 4
}
