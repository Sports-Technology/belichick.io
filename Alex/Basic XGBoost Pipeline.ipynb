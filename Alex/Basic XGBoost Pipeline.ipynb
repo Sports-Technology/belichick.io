{
 "cells": [
  {
   "cell_type": "code",
   "execution_count": 110,
   "metadata": {},
   "outputs": [],
   "source": [
    "import numpy as np \n",
    "import pandas as pd \n",
    "from sklearn.linear_model import LogisticRegression\n",
    "from sklearn.model_selection import train_test_split\n",
    "from sklearn.metrics import classification_report\n",
    "from xgboost import XGBRegressor\n",
    "import pandas as pd\n",
    "import seaborn as sns\n",
    "import joblib\n",
    "import random\n",
    "import math"
   ]
  },
  {
   "cell_type": "code",
   "execution_count": 111,
   "metadata": {},
   "outputs": [],
   "source": [
    "# Downloading Data\n",
    "# The variable dataset size determines how big of a dataset is imported \n",
    "# 1 = 2019 data, 2= 2019+2018, 3 = ...\n",
    "dataset_sz  = 1\n",
    "\n",
    "stem = \"../data/pbp-201\"\n",
    "suffix = \".csv\"\n",
    "sets = []\n",
    "\n",
    "\n",
    "for x in range(dataset_sz):\n",
    "    num = str(9-x)\n",
    "    name = stem+num+suffix\n",
    "    sets.append(pd.read_csv(name))\n",
    "    \n",
    "data = pd.concat(sets)"
   ]
  },
  {
   "cell_type": "code",
   "execution_count": 112,
   "metadata": {},
   "outputs": [
    {
     "data": {
      "text/plain": [
       "3592"
      ]
     },
     "execution_count": 112,
     "metadata": {},
     "output_type": "execute_result"
    }
   ],
   "source": [
    "len(data[data[\"Down\"] == 4][\"PlayType\"])\n",
    "#.value_counts()\n"
   ]
  },
  {
   "cell_type": "code",
   "execution_count": 113,
   "metadata": {},
   "outputs": [],
   "source": [
    "#Used RapidMiner API to identify columns that correlate with target variable while \n",
    "#also not having a large number of missing values (over 50% missing) or stability above 95%\n",
    "\n",
    "good_columns = ['Minute', 'Second', 'OffenseTeam', 'DefenseTeam', 'Down', 'ToGo', 'YardLine',\n",
    "'SeriesFirstDown', 'Formation', 'PlayType', 'IsRush', 'IsPass', 'IsIncomplete', \n",
    "'PassType', 'YardLineFixed', 'YardLineDirection', 'Quarter', 'IsTouchdown', 'IsSack', \n",
    "'IsInterception', 'IsFumble', 'IsPenalty', 'Yards']\n",
    "\n",
    "data_gc = data[good_columns]"
   ]
  },
  {
   "cell_type": "code",
   "execution_count": 114,
   "metadata": {},
   "outputs": [
    {
     "name": "stderr",
     "output_type": "stream",
     "text": [
      "<ipython-input-114-a960f274aafd>:3: SettingWithCopyWarning: \n",
      "A value is trying to be set on a copy of a slice from a DataFrame.\n",
      "Try using .loc[row_indexer,col_indexer] = value instead\n",
      "\n",
      "See the caveats in the documentation: https://pandas.pydata.org/pandas-docs/stable/user_guide/indexing.html#returning-a-view-versus-a-copy\n",
      "  data_gc[\"Time\"] = data_gc[\"Minute\"]*60+data_gc[\"Second\"]\n",
      "C:\\Users\\alexu\\anaconda3\\lib\\site-packages\\pandas\\core\\frame.py:3990: SettingWithCopyWarning: \n",
      "A value is trying to be set on a copy of a slice from a DataFrame\n",
      "\n",
      "See the caveats in the documentation: https://pandas.pydata.org/pandas-docs/stable/user_guide/indexing.html#returning-a-view-versus-a-copy\n",
      "  return super().drop(\n"
     ]
    }
   ],
   "source": [
    "#Create a standard time column  = minute*60+seconds\n",
    "\n",
    "data_gc[\"Time\"] = data_gc[\"Minute\"]*60+data_gc[\"Second\"]\n",
    "data_gc.drop([\"Minute\",\"Second\"], axis = 1, inplace =True)"
   ]
  },
  {
   "cell_type": "code",
   "execution_count": 115,
   "metadata": {},
   "outputs": [
    {
     "name": "stdout",
     "output_type": "stream",
     "text": [
      "OffenseTeam\n",
      "False    39078\n",
      "True      3108\n",
      "Name: OffenseTeam, dtype: int64\n",
      "Formation\n",
      "False    41470\n",
      "True       716\n",
      "Name: Formation, dtype: int64\n",
      "PlayType\n",
      "False    40732\n",
      "True      1454\n",
      "Name: PlayType, dtype: int64\n",
      "PassType\n",
      "True     24669\n",
      "False    17517\n",
      "Name: PassType, dtype: int64\n"
     ]
    }
   ],
   "source": [
    "#See which columns have NaN's in order to begin imputing missing values \n",
    "imput_list = []\n",
    "for col in data_gc.columns:\n",
    "    x = data_gc[col].isna().value_counts()\n",
    "    \n",
    "    #Ignore column if no missing values \n",
    "    if len(x)>1: \n",
    "        print(col)\n",
    "        imput_list.append(col)\n",
    "        print(x)"
   ]
  },
  {
   "cell_type": "code",
   "execution_count": 116,
   "metadata": {},
   "outputs": [
    {
     "name": "stderr",
     "output_type": "stream",
     "text": [
      "C:\\Users\\alexu\\anaconda3\\lib\\site-packages\\pandas\\core\\generic.py:6245: SettingWithCopyWarning: \n",
      "A value is trying to be set on a copy of a slice from a DataFrame\n",
      "\n",
      "See the caveats in the documentation: https://pandas.pydata.org/pandas-docs/stable/user_guide/indexing.html#returning-a-view-versus-a-copy\n",
      "  self._update_inplace(new_data)\n"
     ]
    }
   ],
   "source": [
    "#Impute Pass Type columns with Misc\n",
    "data_gc[\"PassType\"].fillna('MISC', inplace =True)\n",
    "#got tired of longer data frame name\n",
    "dgci = data_gc"
   ]
  },
  {
   "cell_type": "code",
   "execution_count": 117,
   "metadata": {},
   "outputs": [],
   "source": [
    "#Losing about 3000 out of 42,000 columns by dropping rows with NaN's\n",
    "\n",
    "dgci = dgci.dropna()\n",
    "\n",
    "#sanity check\n",
    "\n",
    "for col in dgci.columns:\n",
    "    x = dgci[col].isna().value_counts()\n",
    "    \n",
    "    #Ignore column if no missing values \n",
    "    if len(x)>1: \n",
    "        print(col)\n",
    "        print(x)\n",
    "        \n",
    "# If this prints something, something went wrong. "
   ]
  },
  {
   "cell_type": "code",
   "execution_count": 118,
   "metadata": {},
   "outputs": [
    {
     "data": {
      "text/plain": [
       "PASS                    17520\n",
       "RUSH                    11335\n",
       "KICK OFF                 2422\n",
       "PUNT                     2116\n",
       "SACK                     1266\n",
       "EXTRA POINT              1122\n",
       "FIELD GOAL                911\n",
       "NO PLAY                   764\n",
       "SCRAMBLE                  763\n",
       "QB KNEEL                  368\n",
       "EXCEPTION                 175\n",
       "TWO-POINT CONVERSION      114\n",
       "FUMBLES                    94\n",
       "CLOCK STOP                 71\n",
       "PENALTY                     6\n",
       "Name: PlayType, dtype: int64"
      ]
     },
     "execution_count": 118,
     "metadata": {},
     "output_type": "execute_result"
    }
   ],
   "source": [
    "dgci[\"PlayType\"].value_counts()"
   ]
  },
  {
   "cell_type": "code",
   "execution_count": 128,
   "metadata": {},
   "outputs": [
    {
     "name": "stdout",
     "output_type": "stream",
     "text": [
      "<class 'pandas.core.frame.DataFrame'>\n",
      "Int64Index: 39047 entries, 0 to 42185\n",
      "Data columns (total 22 columns):\n",
      " #   Column             Non-Null Count  Dtype \n",
      "---  ------             --------------  ----- \n",
      " 0   OffenseTeam        39047 non-null  object\n",
      " 1   DefenseTeam        39047 non-null  object\n",
      " 2   Down               39047 non-null  int64 \n",
      " 3   ToGo               39047 non-null  int64 \n",
      " 4   YardLine           39047 non-null  int64 \n",
      " 5   SeriesFirstDown    39047 non-null  int64 \n",
      " 6   Formation          39047 non-null  object\n",
      " 7   PlayType           39047 non-null  object\n",
      " 8   IsRush             39047 non-null  int64 \n",
      " 9   IsPass             39047 non-null  int64 \n",
      " 10  IsIncomplete       39047 non-null  int64 \n",
      " 11  PassType           39047 non-null  object\n",
      " 12  YardLineFixed      39047 non-null  int64 \n",
      " 13  YardLineDirection  39047 non-null  object\n",
      " 14  Quarter            39047 non-null  int64 \n",
      " 15  IsTouchdown        39047 non-null  int64 \n",
      " 16  IsSack             39047 non-null  int64 \n",
      " 17  IsInterception     39047 non-null  int64 \n",
      " 18  IsFumble           39047 non-null  int64 \n",
      " 19  IsPenalty          39047 non-null  int64 \n",
      " 20  Yards              39047 non-null  int64 \n",
      " 21  Time               39047 non-null  int64 \n",
      "dtypes: int64(16), object(6)\n",
      "memory usage: 6.9+ MB\n"
     ]
    }
   ],
   "source": [
    "# Must turn categorical variables into dummy vars to make sklearn happy \n",
    "\n",
    "#First see which columns are categorical (some already are made into dummy vars)\n",
    "dgci.info()"
   ]
  },
  {
   "cell_type": "code",
   "execution_count": 121,
   "metadata": {},
   "outputs": [],
   "source": [
    "cats = ['DefenseTeam','OffenseTeam','Formation','PlayType','PassType', 'YardLineDirection', \"Quarter\", \"Down\"]\n",
    "df = pd.get_dummies(dgci, columns = cats)"
   ]
  },
  {
   "cell_type": "code",
   "execution_count": 122,
   "metadata": {},
   "outputs": [
    {
     "data": {
      "text/plain": [
       "Index(['OffenseTeam', 'DefenseTeam', 'Down', 'ToGo', 'YardLine',\n",
       "       'SeriesFirstDown', 'Formation', 'PlayType', 'IsRush', 'IsPass',\n",
       "       'IsIncomplete', 'PassType', 'YardLineFixed', 'YardLineDirection',\n",
       "       'Quarter', 'IsTouchdown', 'IsSack', 'IsInterception', 'IsFumble',\n",
       "       'IsPenalty', 'Yards', 'Time'],\n",
       "      dtype='object')"
      ]
     },
     "execution_count": 122,
     "metadata": {},
     "output_type": "execute_result"
    }
   ],
   "source": [
    "dgci.columns"
   ]
  },
  {
   "cell_type": "code",
   "execution_count": 123,
   "metadata": {},
   "outputs": [],
   "source": [
    "y = df[\"Yards\"]\n",
    "X = df.drop(\"Yards\", axis = 1)"
   ]
  },
  {
   "cell_type": "code",
   "execution_count": 124,
   "metadata": {},
   "outputs": [],
   "source": [
    "x_training_data, x_test_data, y_training_data, y_test_data = train_test_split(X, y, test_size = 0.1)"
   ]
  },
  {
   "cell_type": "code",
   "execution_count": 125,
   "metadata": {},
   "outputs": [],
   "source": [
    "model = XGBRegressor(verbosity=1)"
   ]
  },
  {
   "cell_type": "code",
   "execution_count": 126,
   "metadata": {},
   "outputs": [
    {
     "data": {
      "text/plain": [
       "XGBRegressor(base_score=0.5, booster='gbtree', colsample_bylevel=1,\n",
       "             colsample_bynode=1, colsample_bytree=1, gamma=0, gpu_id=-1,\n",
       "             importance_type='gain', interaction_constraints='',\n",
       "             learning_rate=0.300000012, max_delta_step=0, max_depth=6,\n",
       "             min_child_weight=1, missing=nan, monotone_constraints='()',\n",
       "             n_estimators=100, n_jobs=0, num_parallel_tree=1, random_state=0,\n",
       "             reg_alpha=0, reg_lambda=1, scale_pos_weight=1, subsample=1,\n",
       "             tree_method='exact', validate_parameters=1, verbosity=1)"
      ]
     },
     "execution_count": 126,
     "metadata": {},
     "output_type": "execute_result"
    }
   ],
   "source": [
    "model.fit(X, y)"
   ]
  },
  {
   "cell_type": "code",
   "execution_count": 127,
   "metadata": {},
   "outputs": [],
   "source": [
    "predictions = model.predict(x_test_data)\n"
   ]
  },
  {
   "cell_type": "code",
   "execution_count": 156,
   "metadata": {},
   "outputs": [],
   "source": [
    "pred_cols = x_test_data.columns"
   ]
  },
  {
   "cell_type": "code",
   "execution_count": 35,
   "metadata": {},
   "outputs": [],
   "source": [
    "modelf = model.fit(X,y)"
   ]
  },
  {
   "cell_type": "code",
   "execution_count": 212,
   "metadata": {},
   "outputs": [],
   "source": [
    "1#Input the information in the correct columns below to make a prediction, leave the play type column blank as the model will determine \n",
    "# which play type maximizes the yards gained or points within a situation. Leave Yards blank too obv\n",
    "datum = dgci.iloc[1] #This is the row of data \n",
    "\n",
    "\n",
    "datum = pd.DataFrame(datum).T"
   ]
  },
  {
   "cell_type": "code",
   "execution_count": 213,
   "metadata": {},
   "outputs": [
    {
     "data": {
      "text/html": [
       "<div>\n",
       "<style scoped>\n",
       "    .dataframe tbody tr th:only-of-type {\n",
       "        vertical-align: middle;\n",
       "    }\n",
       "\n",
       "    .dataframe tbody tr th {\n",
       "        vertical-align: top;\n",
       "    }\n",
       "\n",
       "    .dataframe thead th {\n",
       "        text-align: right;\n",
       "    }\n",
       "</style>\n",
       "<table border=\"1\" class=\"dataframe\">\n",
       "  <thead>\n",
       "    <tr style=\"text-align: right;\">\n",
       "      <th></th>\n",
       "      <th>OffenseTeam</th>\n",
       "      <th>DefenseTeam</th>\n",
       "      <th>Down</th>\n",
       "      <th>ToGo</th>\n",
       "      <th>YardLine</th>\n",
       "      <th>SeriesFirstDown</th>\n",
       "      <th>Formation</th>\n",
       "      <th>PlayType</th>\n",
       "      <th>IsRush</th>\n",
       "      <th>IsPass</th>\n",
       "      <th>...</th>\n",
       "      <th>YardLineFixed</th>\n",
       "      <th>YardLineDirection</th>\n",
       "      <th>Quarter</th>\n",
       "      <th>IsTouchdown</th>\n",
       "      <th>IsSack</th>\n",
       "      <th>IsInterception</th>\n",
       "      <th>IsFumble</th>\n",
       "      <th>IsPenalty</th>\n",
       "      <th>Yards</th>\n",
       "      <th>Time</th>\n",
       "    </tr>\n",
       "  </thead>\n",
       "  <tbody>\n",
       "    <tr>\n",
       "      <th>1</th>\n",
       "      <td>NYJ</td>\n",
       "      <td>LV</td>\n",
       "      <td>3</td>\n",
       "      <td>1</td>\n",
       "      <td>99</td>\n",
       "      <td>1</td>\n",
       "      <td>SHOTGUN</td>\n",
       "      <td>PASS</td>\n",
       "      <td>0</td>\n",
       "      <td>1</td>\n",
       "      <td>...</td>\n",
       "      <td>1</td>\n",
       "      <td>OPP</td>\n",
       "      <td>3</td>\n",
       "      <td>1</td>\n",
       "      <td>0</td>\n",
       "      <td>0</td>\n",
       "      <td>0</td>\n",
       "      <td>0</td>\n",
       "      <td>1</td>\n",
       "      <td>404</td>\n",
       "    </tr>\n",
       "  </tbody>\n",
       "</table>\n",
       "<p>1 rows × 22 columns</p>\n",
       "</div>"
      ],
      "text/plain": [
       "  OffenseTeam DefenseTeam Down ToGo YardLine SeriesFirstDown Formation  \\\n",
       "1         NYJ          LV    3    1       99               1   SHOTGUN   \n",
       "\n",
       "  PlayType IsRush IsPass  ... YardLineFixed YardLineDirection Quarter  \\\n",
       "1     PASS      0      1  ...             1               OPP       3   \n",
       "\n",
       "  IsTouchdown IsSack IsInterception IsFumble IsPenalty Yards Time  \n",
       "1           1      0              0        0         0     1  404  \n",
       "\n",
       "[1 rows x 22 columns]"
      ]
     },
     "execution_count": 213,
     "metadata": {},
     "output_type": "execute_result"
    }
   ],
   "source": [
    "datum"
   ]
  },
  {
   "cell_type": "code",
   "execution_count": 209,
   "metadata": {},
   "outputs": [],
   "source": [
    "cats = ['DefenseTeam','OffenseTeam','Formation','PlayType','PassType', 'YardLineDirection', \"Quarter\", \"Down\"]\n",
    "#The current options being considered to maximize\n",
    "\n",
    "PT = [\"PASS\", \"RUSH\", \"PUNT\"]\n",
    "\n",
    "preds = []\n",
    "\n",
    "prediction_values = pd.DataFrame(np.zeros([122,122]),columns = np.asarray(pred_cols))\n",
    "\n",
    "p_vals = pd.DataFrame(prediction_values.iloc[1]).T\n",
    "\n",
    "datum  = pd.get_dummies(datum, columns = cats).drop(\"Yards\", axis = 1)\n",
    "\n",
    "for x in datum.columns:\n",
    "    p_vals[x] = int(datum[x])\n",
    "    \n",
    "for x in PT: \n",
    "    dummy = p_vals.copy()\n",
    "    dummy[\"PlayType_\"+x] = 1\n",
    "    preds.append(modelf.predict(dummy))\n",
    "    \n",
    "    "
   ]
  },
  {
   "cell_type": "code",
   "execution_count": 210,
   "metadata": {},
   "outputs": [
    {
     "data": {
      "text/plain": [
       "[array([0.83229965], dtype=float32),\n",
       " array([0.852101], dtype=float32),\n",
       " array([0.3697102], dtype=float32)]"
      ]
     },
     "execution_count": 210,
     "metadata": {},
     "output_type": "execute_result"
    }
   ],
   "source": [
    "preds"
   ]
  },
  {
   "cell_type": "code",
   "execution_count": null,
   "metadata": {},
   "outputs": [],
   "source": [
    "#Looks like RUsh maximizes Yards here. \n",
    "#Gang"
   ]
  }
 ],
 "metadata": {
  "kernelspec": {
   "display_name": "Python 3",
   "language": "python",
   "name": "python3"
  },
  "language_info": {
   "codemirror_mode": {
    "name": "ipython",
    "version": 3
   },
   "file_extension": ".py",
   "mimetype": "text/x-python",
   "name": "python",
   "nbconvert_exporter": "python",
   "pygments_lexer": "ipython3",
   "version": "3.8.3"
  }
 },
 "nbformat": 4,
 "nbformat_minor": 4
}
