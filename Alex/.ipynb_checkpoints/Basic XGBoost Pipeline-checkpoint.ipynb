{
 "cells": [
  {
   "cell_type": "code",
   "execution_count": 1,
   "metadata": {},
   "outputs": [],
   "source": [
    "import numpy as np \n",
    "import pandas as pd \n",
    "from sklearn.linear_model import LogisticRegression\n",
    "from sklearn.model_selection import train_test_split\n",
    "from sklearn.metrics import classification_report\n",
    "from xgboost import XGBRegressor\n",
    "import pandas as pd\n",
    "import seaborn as sns\n",
    "import joblib\n",
    "import random\n",
    "import math"
   ]
  },
  {
   "cell_type": "code",
   "execution_count": 2,
   "metadata": {},
   "outputs": [],
   "source": [
    "# Downloading Data\n",
    "# The variable dataset size determines how big of a dataset is imported \n",
    "# 1 = 2019 data, 2= 2019+2018, 3 = ...\n",
    "dataset_sz  = 1\n",
    "\n",
    "stem = \"../data/pbp-201\"\n",
    "suffix = \".csv\"\n",
    "sets = []\n",
    "\n",
    "\n",
    "for x in range(dataset_sz):\n",
    "    num = str(9-x)\n",
    "    name = stem+num+suffix\n",
    "    sets.append(pd.read_csv(name))\n",
    "    \n",
    "data = pd.concat(sets)"
   ]
  },
  {
   "cell_type": "code",
   "execution_count": 3,
   "metadata": {},
   "outputs": [
    {
     "data": {
      "text/plain": [
       "3592"
      ]
     },
     "execution_count": 3,
     "metadata": {},
     "output_type": "execute_result"
    }
   ],
   "source": [
    "len(data[data[\"Down\"] == 4][\"PlayType\"])\n",
    "#.value_counts()\n"
   ]
  },
  {
   "cell_type": "code",
   "execution_count": 4,
   "metadata": {},
   "outputs": [],
   "source": [
    "#Used RapidMiner API to identify columns that correlate with target variable while \n",
    "#also not having a large number of missing values (over 50% missing) or stability above 95%\n",
    "\n",
    "good_columns = ['Minute', 'Second', 'OffenseTeam', 'DefenseTeam', 'Down', 'ToGo', 'YardLine',\n",
    "'SeriesFirstDown', 'Formation', 'PlayType', 'IsRush', 'IsPass', 'IsIncomplete', \n",
    "'PassType', 'YardLineFixed', 'YardLineDirection', 'Quarter', 'IsTouchdown', 'IsSack', \n",
    "'IsInterception', 'IsFumble', 'IsPenalty', 'Yards']\n",
    "\n",
    "data_gc = data[good_columns]"
   ]
  },
  {
   "cell_type": "code",
   "execution_count": 5,
   "metadata": {},
   "outputs": [
    {
     "name": "stderr",
     "output_type": "stream",
     "text": [
      "/opt/miniconda3/envs/sports/lib/python3.6/site-packages/ipykernel_launcher.py:3: SettingWithCopyWarning: \n",
      "A value is trying to be set on a copy of a slice from a DataFrame.\n",
      "Try using .loc[row_indexer,col_indexer] = value instead\n",
      "\n",
      "See the caveats in the documentation: https://pandas.pydata.org/pandas-docs/stable/user_guide/indexing.html#returning-a-view-versus-a-copy\n",
      "  This is separate from the ipykernel package so we can avoid doing imports until\n",
      "/opt/miniconda3/envs/sports/lib/python3.6/site-packages/pandas/core/frame.py:4174: SettingWithCopyWarning: \n",
      "A value is trying to be set on a copy of a slice from a DataFrame\n",
      "\n",
      "See the caveats in the documentation: https://pandas.pydata.org/pandas-docs/stable/user_guide/indexing.html#returning-a-view-versus-a-copy\n",
      "  errors=errors,\n"
     ]
    }
   ],
   "source": [
    "#Create a standard time column  = minute*60+seconds\n",
    "\n",
    "data_gc[\"Time\"] = data_gc[\"Minute\"]*60+data_gc[\"Second\"]\n",
    "data_gc.drop([\"Minute\",\"Second\"], axis = 1, inplace =True)"
   ]
  },
  {
   "cell_type": "code",
   "execution_count": 6,
   "metadata": {},
   "outputs": [
    {
     "name": "stdout",
     "output_type": "stream",
     "text": [
      "OffenseTeam\n",
      "False    39078\n",
      "True      3108\n",
      "Name: OffenseTeam, dtype: int64\n",
      "Formation\n",
      "False    41470\n",
      "True       716\n",
      "Name: Formation, dtype: int64\n",
      "PlayType\n",
      "False    40732\n",
      "True      1454\n",
      "Name: PlayType, dtype: int64\n",
      "PassType\n",
      "True     24669\n",
      "False    17517\n",
      "Name: PassType, dtype: int64\n"
     ]
    }
   ],
   "source": [
    "#See which columns have NaN's in order to begin imputing missing values \n",
    "imput_list = []\n",
    "for col in data_gc.columns:\n",
    "    x = data_gc[col].isna().value_counts()\n",
    "    \n",
    "    #Ignore column if no missing values \n",
    "    if len(x)>1: \n",
    "        print(col)\n",
    "        imput_list.append(col)\n",
    "        print(x)"
   ]
  },
  {
   "cell_type": "code",
   "execution_count": 7,
   "metadata": {},
   "outputs": [
    {
     "name": "stderr",
     "output_type": "stream",
     "text": [
      "/opt/miniconda3/envs/sports/lib/python3.6/site-packages/pandas/core/series.py:4535: SettingWithCopyWarning: \n",
      "A value is trying to be set on a copy of a slice from a DataFrame\n",
      "\n",
      "See the caveats in the documentation: https://pandas.pydata.org/pandas-docs/stable/user_guide/indexing.html#returning-a-view-versus-a-copy\n",
      "  downcast=downcast,\n"
     ]
    }
   ],
   "source": [
    "#Impute Pass Type columns with Misc\n",
    "data_gc[\"PassType\"].fillna('MISC', inplace =True)\n",
    "#got tired of longer data frame name\n",
    "dgci = data_gc"
   ]
  },
  {
   "cell_type": "code",
   "execution_count": 8,
   "metadata": {},
   "outputs": [],
   "source": [
    "#Losing about 3000 out of 42,000 columns by dropping rows with NaN's\n",
    "\n",
    "dgci = dgci.dropna()\n",
    "\n",
    "#sanity check\n",
    "\n",
    "for col in dgci.columns:\n",
    "    x = dgci[col].isna().value_counts()\n",
    "    \n",
    "    #Ignore column if no missing values \n",
    "    if len(x)>1: \n",
    "        print(col)\n",
    "        print(x)\n",
    "        \n",
    "# If this prints something, something went wrong. "
   ]
  },
  {
   "cell_type": "code",
   "execution_count": 9,
   "metadata": {},
   "outputs": [
    {
     "data": {
      "text/plain": [
       "PASS                    17520\n",
       "RUSH                    11335\n",
       "KICK OFF                 2422\n",
       "PUNT                     2116\n",
       "SACK                     1266\n",
       "EXTRA POINT              1122\n",
       "FIELD GOAL                911\n",
       "NO PLAY                   764\n",
       "SCRAMBLE                  763\n",
       "QB KNEEL                  368\n",
       "EXCEPTION                 175\n",
       "TWO-POINT CONVERSION      114\n",
       "FUMBLES                    94\n",
       "CLOCK STOP                 71\n",
       "PENALTY                     6\n",
       "Name: PlayType, dtype: int64"
      ]
     },
     "execution_count": 9,
     "metadata": {},
     "output_type": "execute_result"
    }
   ],
   "source": [
    "dgci[\"PlayType\"].value_counts()"
   ]
  },
  {
   "cell_type": "code",
   "execution_count": 128,
   "metadata": {},
   "outputs": [
    {
     "name": "stdout",
     "output_type": "stream",
     "text": [
      "<class 'pandas.core.frame.DataFrame'>\n",
      "Int64Index: 39047 entries, 0 to 42185\n",
      "Data columns (total 22 columns):\n",
      " #   Column             Non-Null Count  Dtype \n",
      "---  ------             --------------  ----- \n",
      " 0   OffenseTeam        39047 non-null  object\n",
      " 1   DefenseTeam        39047 non-null  object\n",
      " 2   Down               39047 non-null  int64 \n",
      " 3   ToGo               39047 non-null  int64 \n",
      " 4   YardLine           39047 non-null  int64 \n",
      " 5   SeriesFirstDown    39047 non-null  int64 \n",
      " 6   Formation          39047 non-null  object\n",
      " 7   PlayType           39047 non-null  object\n",
      " 8   IsRush             39047 non-null  int64 \n",
      " 9   IsPass             39047 non-null  int64 \n",
      " 10  IsIncomplete       39047 non-null  int64 \n",
      " 11  PassType           39047 non-null  object\n",
      " 12  YardLineFixed      39047 non-null  int64 \n",
      " 13  YardLineDirection  39047 non-null  object\n",
      " 14  Quarter            39047 non-null  int64 \n",
      " 15  IsTouchdown        39047 non-null  int64 \n",
      " 16  IsSack             39047 non-null  int64 \n",
      " 17  IsInterception     39047 non-null  int64 \n",
      " 18  IsFumble           39047 non-null  int64 \n",
      " 19  IsPenalty          39047 non-null  int64 \n",
      " 20  Yards              39047 non-null  int64 \n",
      " 21  Time               39047 non-null  int64 \n",
      "dtypes: int64(16), object(6)\n",
      "memory usage: 6.9+ MB\n"
     ]
    }
   ],
   "source": [
    "# Must turn categorical variables into dummy vars to make sklearn happy \n",
    "\n",
    "#First see which columns are categorical (some already are made into dummy vars)\n",
    "dgci.info()"
   ]
  },
  {
   "cell_type": "code",
   "execution_count": 10,
   "metadata": {},
   "outputs": [],
   "source": [
    "cats = ['DefenseTeam','OffenseTeam','Formation','PlayType','PassType', 'YardLineDirection', \"Quarter\", \"Down\"]\n",
    "df = pd.get_dummies(dgci, columns = cats)"
   ]
  },
  {
   "cell_type": "code",
   "execution_count": 11,
   "metadata": {},
   "outputs": [
    {
     "data": {
      "text/plain": [
       "Index(['OffenseTeam', 'DefenseTeam', 'Down', 'ToGo', 'YardLine',\n",
       "       'SeriesFirstDown', 'Formation', 'PlayType', 'IsRush', 'IsPass',\n",
       "       'IsIncomplete', 'PassType', 'YardLineFixed', 'YardLineDirection',\n",
       "       'Quarter', 'IsTouchdown', 'IsSack', 'IsInterception', 'IsFumble',\n",
       "       'IsPenalty', 'Yards', 'Time'],\n",
       "      dtype='object')"
      ]
     },
     "execution_count": 11,
     "metadata": {},
     "output_type": "execute_result"
    }
   ],
   "source": [
    "dgci.columns"
   ]
  },
  {
   "cell_type": "code",
   "execution_count": 12,
   "metadata": {},
   "outputs": [],
   "source": [
    "y = df[\"Yards\"]\n",
    "X = df.drop(\"Yards\", axis = 1)"
   ]
  },
  {
   "cell_type": "code",
   "execution_count": 142,
   "metadata": {},
   "outputs": [],
   "source": [
    "x_training_data, x_test_data, y_training_data, y_test_data = train_test_split(X, y, test_size = 0.1)"
   ]
  },
  {
   "cell_type": "code",
   "execution_count": 143,
   "metadata": {},
   "outputs": [],
   "source": [
    "model = XGBRegressor(verbosity=1)"
   ]
  },
  {
   "cell_type": "code",
   "execution_count": 144,
   "metadata": {},
   "outputs": [
    {
     "data": {
      "text/plain": [
       "XGBRegressor(base_score=0.5, booster='gbtree', colsample_bylevel=1,\n",
       "             colsample_bynode=1, colsample_bytree=1, gamma=0, gpu_id=-1,\n",
       "             importance_type='gain', interaction_constraints='',\n",
       "             learning_rate=0.300000012, max_delta_step=0, max_depth=6,\n",
       "             min_child_weight=1, missing=nan, monotone_constraints='()',\n",
       "             n_estimators=100, n_jobs=0, num_parallel_tree=1, random_state=0,\n",
       "             reg_alpha=0, reg_lambda=1, scale_pos_weight=1, subsample=1,\n",
       "             tree_method='exact', validate_parameters=1, verbosity=1)"
      ]
     },
     "execution_count": 144,
     "metadata": {},
     "output_type": "execute_result"
    }
   ],
   "source": [
    "model.fit(X, y)"
   ]
  },
  {
   "cell_type": "code",
   "execution_count": 145,
   "metadata": {},
   "outputs": [
    {
     "name": "stdout",
     "output_type": "stream",
     "text": [
      "[-0.18795937  2.311502    2.0018845  ... -0.17746079 -0.3912118\n",
      "  3.5280123 ]\n"
     ]
    }
   ],
   "source": [
    "predictions = model.predict(x_test_data)\n",
    "print(predictions)"
   ]
  },
  {
   "cell_type": "code",
   "execution_count": 146,
   "metadata": {},
   "outputs": [],
   "source": [
    "pred_cols = x_test_data.columns"
   ]
  },
  {
   "cell_type": "code",
   "execution_count": 147,
   "metadata": {},
   "outputs": [
    {
     "name": "stderr",
     "output_type": "stream",
     "text": [
      "/opt/miniconda3/envs/sports/lib/python3.6/site-packages/ipykernel_launcher.py:8: RuntimeWarning: overflow encountered in cosh\n",
      "  \n",
      "/opt/miniconda3/envs/sports/lib/python3.6/site-packages/ipykernel_launcher.py:8: RuntimeWarning: overflow encountered in square\n",
      "  \n"
     ]
    }
   ],
   "source": [
    "modelf = model.fit(X,y)\n",
    "\n",
    "def log_cosh_quantile(alpha):\n",
    "    def _log_cosh_quantile(y_true, y_pred):\n",
    "        err = y_pred - y_true\n",
    "        err = np.where(err < 0, alpha * err, (1 - alpha) * err)\n",
    "        grad = np.tanh(err)\n",
    "        hess = 1 / np.cosh(err)**2\n",
    "        return grad, hess\n",
    "    return _log_cosh_quantile\n",
    "\n",
    "alpha = 0.95 # 95% prediction interval\n",
    "upper_model = XGBRegressor(verbosity=1,objective=log_cosh_quantile(alpha)) # predicts too high (top 2.5%)\n",
    "lower_model = XGBRegressor(verbosity=1,objective=log_cosh_quantile(1-alpha)) # predicts too low (bottom 2.5%)\n",
    "upper_model = upper_model.fit(X,y)\n",
    "lower_model = lower_model.fit(X,y)"
   ]
  },
  {
   "cell_type": "code",
   "execution_count": 187,
   "metadata": {},
   "outputs": [],
   "source": [
    "#Input the information in the correct columns below to make a prediction, leave the play type column blank as the model will determine \n",
    "# which play type maximizes the yards gained or points within a situation. Leave Yards blank too obv\n",
    "datum = dgci.iloc[12] #This is the row of data \n",
    "\n",
    "\n",
    "datum = pd.DataFrame(datum).T"
   ]
  },
  {
   "cell_type": "code",
   "execution_count": 188,
   "metadata": {},
   "outputs": [
    {
     "data": {
      "text/html": [
       "<div>\n",
       "<style scoped>\n",
       "    .dataframe tbody tr th:only-of-type {\n",
       "        vertical-align: middle;\n",
       "    }\n",
       "\n",
       "    .dataframe tbody tr th {\n",
       "        vertical-align: top;\n",
       "    }\n",
       "\n",
       "    .dataframe thead th {\n",
       "        text-align: right;\n",
       "    }\n",
       "</style>\n",
       "<table border=\"1\" class=\"dataframe\">\n",
       "  <thead>\n",
       "    <tr style=\"text-align: right;\">\n",
       "      <th></th>\n",
       "      <th>OffenseTeam</th>\n",
       "      <th>DefenseTeam</th>\n",
       "      <th>Down</th>\n",
       "      <th>ToGo</th>\n",
       "      <th>YardLine</th>\n",
       "      <th>SeriesFirstDown</th>\n",
       "      <th>Formation</th>\n",
       "      <th>PlayType</th>\n",
       "      <th>IsRush</th>\n",
       "      <th>IsPass</th>\n",
       "      <th>...</th>\n",
       "      <th>YardLineFixed</th>\n",
       "      <th>YardLineDirection</th>\n",
       "      <th>Quarter</th>\n",
       "      <th>IsTouchdown</th>\n",
       "      <th>IsSack</th>\n",
       "      <th>IsInterception</th>\n",
       "      <th>IsFumble</th>\n",
       "      <th>IsPenalty</th>\n",
       "      <th>Yards</th>\n",
       "      <th>Time</th>\n",
       "    </tr>\n",
       "  </thead>\n",
       "  <tbody>\n",
       "    <tr>\n",
       "      <th>12</th>\n",
       "      <td>NYJ</td>\n",
       "      <td>LV</td>\n",
       "      <td>4</td>\n",
       "      <td>15</td>\n",
       "      <td>83</td>\n",
       "      <td>0</td>\n",
       "      <td>FIELD GOAL</td>\n",
       "      <td>FIELD GOAL</td>\n",
       "      <td>0</td>\n",
       "      <td>0</td>\n",
       "      <td>...</td>\n",
       "      <td>17</td>\n",
       "      <td>OPP</td>\n",
       "      <td>2</td>\n",
       "      <td>0</td>\n",
       "      <td>0</td>\n",
       "      <td>0</td>\n",
       "      <td>0</td>\n",
       "      <td>0</td>\n",
       "      <td>0</td>\n",
       "      <td>196</td>\n",
       "    </tr>\n",
       "  </tbody>\n",
       "</table>\n",
       "<p>1 rows × 22 columns</p>\n",
       "</div>"
      ],
      "text/plain": [
       "   OffenseTeam DefenseTeam Down ToGo YardLine SeriesFirstDown   Formation  \\\n",
       "12         NYJ          LV    4   15       83               0  FIELD GOAL   \n",
       "\n",
       "      PlayType IsRush IsPass  ... YardLineFixed YardLineDirection Quarter  \\\n",
       "12  FIELD GOAL      0      0  ...            17               OPP       2   \n",
       "\n",
       "   IsTouchdown IsSack IsInterception IsFumble IsPenalty Yards Time  \n",
       "12           0      0              0        0         0     0  196  \n",
       "\n",
       "[1 rows x 22 columns]"
      ]
     },
     "execution_count": 188,
     "metadata": {},
     "output_type": "execute_result"
    }
   ],
   "source": [
    "datum"
   ]
  },
  {
   "cell_type": "code",
   "execution_count": 189,
   "metadata": {},
   "outputs": [
    {
     "name": "stdout",
     "output_type": "stream",
     "text": [
      "[[0.16601852, 0.24230364, -0.02068144], [0.47250915, 0.05968088, -0.16087317]]\n"
     ]
    }
   ],
   "source": [
    "cats = ['DefenseTeam','OffenseTeam','Formation','PlayType','PassType', 'YardLineDirection', \"Quarter\", \"Down\"]\n",
    "#The current options being considered to maximize\n",
    "\n",
    "PT = [\"PASS\", \"RUSH\"]\n",
    "\n",
    "preds = []\n",
    "\n",
    "prediction_values = pd.DataFrame(np.zeros([122,122]),columns = np.asarray(pred_cols))\n",
    "\n",
    "p_vals = pd.DataFrame(prediction_values.iloc[12]).T\n",
    "\n",
    "datum  = pd.get_dummies(datum, columns = cats).drop(\"Yards\", axis = 1)\n",
    "\n",
    "for x in datum.columns:\n",
    "    p_vals[x] = int(datum[x])\n",
    "    \n",
    "for x in PT: \n",
    "    dummy = p_vals.copy()\n",
    "    dummy[\"PlayType_\"+x] = 1\n",
    "    preds.append([upper_model.predict(dummy)[0],modelf.predict(dummy)[0],lower_model.predict(dummy)[0]])\n",
    "\n",
    "print(preds)\n",
    "# to_go = p_vals[\"ToGo\"].iloc[0].item()\n",
    "# pass_yards,rush_yards = preds[0], preds[1]\n",
    "# if p_vals[\"Down_4\"].iloc[0].item() == 1 and max(pass_yards,rush_yards) > to_go:\n",
    "#     print(\"Our prediction shows a gain of \"+str(max(pass_yards,rush_yards)) + \" yards. We recommend punting\")\n",
    "# else:\n",
    "#     if pass_yards > rush_yards:\n",
    "#         print(\"We recommend passing.\"+\" Predicted Yards:\",pass_yards)\n",
    "#     else:\n",
    "#         print(\"We recommend rushing.\"+\" Predicted Yards:\",rush_yards)\n",
    "    \n",
    "    \n",
    "    "
   ]
  },
  {
   "cell_type": "code",
   "execution_count": 138,
   "metadata": {},
   "outputs": [
    {
     "data": {
      "text/plain": [
       "[array([2.820426], dtype=float32), array([2.820426], dtype=float32)]"
      ]
     },
     "execution_count": 138,
     "metadata": {},
     "output_type": "execute_result"
    }
   ],
   "source": [
    "preds"
   ]
  },
  {
   "cell_type": "code",
   "execution_count": null,
   "metadata": {},
   "outputs": [],
   "source": [
    "#Looks like RUsh maximizes Yards here. \n",
    "#Gang"
   ]
  }
 ],
 "metadata": {
  "kernelspec": {
   "display_name": "Python 3",
   "language": "python",
   "name": "python3"
  },
  "language_info": {
   "codemirror_mode": {
    "name": "ipython",
    "version": 3
   },
   "file_extension": ".py",
   "mimetype": "text/x-python",
   "name": "python",
   "nbconvert_exporter": "python",
   "pygments_lexer": "ipython3",
   "version": "3.6.12"
  }
 },
 "nbformat": 4,
 "nbformat_minor": 4
}
